{
 "cells": [
  {
   "cell_type": "code",
   "execution_count": 1,
   "id": "dacaae13",
   "metadata": {},
   "outputs": [],
   "source": [
    "import pickle"
   ]
  },
  {
   "cell_type": "code",
   "execution_count": 3,
   "id": "16c239a8",
   "metadata": {},
   "outputs": [],
   "source": [
    "import pandas as pd\n",
    "\n",
    "dataset=pd.read_csv(\"CKD.csv\")\n",
    "\n",
    "dataset=pd.get_dummies(dataset,dtype=int,drop_first=True)\n",
    "\n",
    "independent=dataset[['age', 'bp', 'al', 'su', 'bgr', 'bu', 'sc', 'sod', 'pot', 'hrmo', 'pcv','wc', 'rc',\n",
    "                     'sg_b', 'sg_c', 'sg_d', 'sg_e', 'rbc_normal', 'pc_normal','pcc_present',\n",
    "                     'ba_present', 'htn_yes', 'dm_yes', 'cad_yes','appet_yes', 'pe_yes', 'ane_yes']]\n",
    "\n",
    "dependent=dataset[['classification_yes']]\n",
    "\n",
    "from sklearn.model_selection import train_test_split\n",
    "x_train,x_test,y_train,y_test=train_test_split(independent, dependent, test_size=0.30, random_state=0)\n",
    "\n",
    "from sklearn.preprocessing import StandardScaler\n",
    "sc=StandardScaler()\n",
    "x_train=sc.fit_transform(x_train)\n",
    "x_test=sc.transform(x_test)"
   ]
  },
  {
   "cell_type": "code",
   "execution_count": 4,
   "id": "27b80d83",
   "metadata": {},
   "outputs": [
    {
     "name": "stdout",
     "output_type": "stream",
     "text": [
      "Enter the age: 25\n",
      "Enter the bp: 12\n",
      "Enter the sg-b(yes-1 or no-0): 0\n",
      "Enter the sg-c(yes-1 or no-0): 0\n",
      "Enter the sg-d(yes-1 or no-0): 0\n",
      "Enter the sg-e(yes-1 or no-0): 0\n",
      "Enter the al: 14\n",
      "Enter the su: 26\n",
      "Enter the rbc(normal-1 or abnormal-0): 1\n",
      "Enter the pc(normal-1 or abnormal-0): 1\n",
      "Enter the pcc(present-1 or notPresent-0): 0\n",
      "Enter the ba(present-1 or notPresent-0: 0\n",
      "Enter the bgr: 15\n",
      "Enter the bu: 78\n",
      "Enter the sc: 35\n",
      "Enter the sod: 46\n",
      "Enter the pot: 27\n",
      "Enter the hrmo: 69\n",
      "Enter the pvc: 15\n",
      "Enter the wc: 73\n",
      "Enter the rc: 25\n",
      "Enter the htn(yes-1 or no-0): 0\n",
      "Enter the dm (yes-1 or no-0): 0\n",
      "Enter the cad (yes-1 or no-0): 0\n",
      "Enter the appet (yes-1 or poor-0): 0\n",
      "Enter the pe (yes-1 or poor-0): 0\n",
      "Enter the ane (yes-1 or no-0): 0\n"
     ]
    },
    {
     "name": "stderr",
     "output_type": "stream",
     "text": [
      "C:\\Users\\DEEPAK\\anaconda3\\Lib\\site-packages\\sklearn\\base.py:464: UserWarning: X does not have valid feature names, but StandardScaler was fitted with feature names\n",
      "  warnings.warn(\n"
     ]
    }
   ],
   "source": [
    "i1=int(input(\"Enter the age: \"))\n",
    "i2=int(input(\"Enter the bp: \"))\n",
    "i3b=int(input(\"Enter the sg-b(yes-1 or no-0): \"))\n",
    "i3c=int(input(\"Enter the sg-c(yes-1 or no-0): \"))\n",
    "i3d=int(input(\"Enter the sg-d(yes-1 or no-0): \"))\n",
    "i3e=int(input(\"Enter the sg-e(yes-1 or no-0): \"))\n",
    "i4=int(input(\"Enter the al: \"))\n",
    "i5=int(input(\"Enter the su: \"))\n",
    "i6=int(input(\"Enter the rbc(normal-1 or abnormal-0): \"))\n",
    "i7=int(input(\"Enter the pc(normal-1 or abnormal-0): \"))\n",
    "i8=int(input(\"Enter the pcc(present-1 or notPresent-0): \"))\n",
    "i9=int(input(\"Enter the ba(present-1 or notPresent-0: \"))\n",
    "i10=int(input(\"Enter the bgr: \"))\n",
    "i11=int(input(\"Enter the bu: \"))\n",
    "i12=int(input(\"Enter the sc: \"))\n",
    "i13=int(input(\"Enter the sod: \"))\n",
    "i14=int(input(\"Enter the pot: \"))\n",
    "i15=int(input(\"Enter the hrmo: \"))\n",
    "i16=int(input(\"Enter the pvc: \"))\n",
    "i17=int(input(\"Enter the wc: \"))\n",
    "i18=int(input(\"Enter the rc: \"))\n",
    "i19=int(input(\"Enter the htn(yes-1 or no-0): \"))\n",
    "i20=int(input(\"Enter the dm (yes-1 or no-0): \"))\n",
    "i21=int(input(\"Enter the cad (yes-1 or no-0): \"))\n",
    "i22=int(input(\"Enter the appet (yes-1 or poor-0): \"))\n",
    "i23=int(input(\"Enter the pe (yes-1 or poor-0): \"))\n",
    "i24=int(input(\"Enter the ane (yes-1 or no-0): \"))\n",
    "\n",
    "preinput=sc.transform([[i1,i2,i3b,i3c,i3d,i3e,i4,i5,i6,i7,i8,i9,i10,i11,i12,i13,i14,i15,i16,i17,i18,i19,i20,i21,i22,i23,i24]])"
   ]
  },
  {
   "cell_type": "code",
   "execution_count": 5,
   "id": "0a796cbc",
   "metadata": {},
   "outputs": [
    {
     "data": {
      "text/plain": [
       "array([1])"
      ]
     },
     "execution_count": 5,
     "metadata": {},
     "output_type": "execute_result"
    }
   ],
   "source": [
    "load_model=pickle.load(open(\"final_model_classification.sav\",'rb'))\n",
    "\n",
    "result=load_model.predict(preinput)\n",
    "\n",
    "result"
   ]
  }
 ],
 "metadata": {
  "kernelspec": {
   "display_name": "Python 3 (ipykernel)",
   "language": "python",
   "name": "python3"
  },
  "language_info": {
   "codemirror_mode": {
    "name": "ipython",
    "version": 3
   },
   "file_extension": ".py",
   "mimetype": "text/x-python",
   "name": "python",
   "nbconvert_exporter": "python",
   "pygments_lexer": "ipython3",
   "version": "3.11.5"
  }
 },
 "nbformat": 4,
 "nbformat_minor": 5
}
